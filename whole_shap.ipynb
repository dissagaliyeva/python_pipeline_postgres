{
 "cells": [
  {
   "cell_type": "code",
   "execution_count": null,
   "metadata": {},
   "outputs": [],
   "source": [
    "import dash_helper as dash\n",
    "\n",
    "results = dash.main('experiments/2024-02-02/results-for-2023-01-01-2023-12-31.csv',\n",
    "               model1='experiments/models/train-until-2023-01-01_col_length=71.model',\n",
    "               result2='experiments/2024-02-02_retrain90_predict2023/results-for-2023-01-01-2023-12-31.csv',\n",
    "               model2='experiments/models/train-until-2023-12-27_col_length=71.model',\n",
    "               orig_data='data/data_2024-02-02.csv', use_rolling=[True, True],\n",
    "               use_feature_eng=[False, False])\n",
    "\n",
    "preds1, columns1, model1, shap1 = results['results1']\n",
    "preds2, columns2, model2, shap2 = results['results2']\n",
    "orig_data = results['orig_data']\n",
    "data1, data2 = orig_data[columns1], orig_data[columns2]"
   ]
  },
  {
   "cell_type": "code",
   "execution_count": null,
   "metadata": {},
   "outputs": [],
   "source": [
    "target_col = 'F380 M2/M3'\n",
    "TARGET_VALS = orig_data[[target_col]]"
   ]
  },
  {
   "cell_type": "code",
   "execution_count": null,
   "metadata": {},
   "outputs": [],
   "source": [
    "dir(shap1)"
   ]
  },
  {
   "cell_type": "code",
   "execution_count": null,
   "metadata": {},
   "outputs": [],
   "source": [
    "shap1.base_values"
   ]
  },
  {
   "cell_type": "code",
   "execution_count": null,
   "metadata": {},
   "outputs": [],
   "source": [
    "import plotly.graph_objects as go\n",
    "\n",
    "X_train = data1.loc['2023-01-01':]\n",
    "\n",
    "# Extract the expected value (base value)\n",
    "explainer, shap_values = dash.get_shap_values(X_train, model1)\n",
    "expected_value = explainer.expected_value\n",
    "\n",
    "# Create a bar plot for the SHAP values\n",
    "feature_names = X_train.columns  # Replace with your feature names\n",
    "shap_values_values = shap_values[0]\n",
    "shap_plot = go.Bar(\n",
    "    x=shap_values_values,\n",
    "    y=feature_names,\n",
    "    orientation='h',\n",
    "    marker=dict(\n",
    "        color=shap_values_values,\n",
    "        colorscale='Viridis',  # You can choose other color scales\n",
    "        showscale=True,\n",
    "    ),\n",
    ")\n",
    "\n",
    "# Create a scatter plot for the expected value\n",
    "expected_value_plot = go.Scatter(\n",
    "    x=[expected_value],\n",
    "    y=['Expected Value'],\n",
    "    mode='markers',\n",
    "    marker=dict(\n",
    "        color='red',  # Change the color as desired\n",
    "        size=15,\n",
    "        symbol='x',\n",
    "    ),\n",
    ")\n",
    "\n",
    "# Create the layout for the plot\n",
    "layout = go.Layout(\n",
    "    title='SHAP Force Plot',\n",
    "    xaxis=dict(title='SHAP Value'),\n",
    "    yaxis=dict(title='Feature'),\n",
    "    showlegend=False,\n",
    ")\n",
    "\n",
    "# Create the Plotly figure\n",
    "fig = go.Figure(data=[shap_plot, expected_value_plot], layout=layout)\n",
    "\n",
    "# Show the figure\n",
    "fig.show()\n"
   ]
  },
  {
   "cell_type": "code",
   "execution_count": null,
   "metadata": {},
   "outputs": [],
   "source": [
    "import os\n",
    "import re\n",
    "import pandas as pd\n",
    "import panel as pn\n",
    "import param\n",
    "import os\n",
    "import holoviews as hv\n",
    "\n",
    "import pandas as pd\n",
    "import plotly.graph_objects as go\n",
    "\n",
    "# perspective packages\n",
    "import pickle\n",
    "from pathlib import Path\n",
    "import datetime as dt\n",
    "\n",
    "pn.config.js_files[\"jquery\"]=\"https://code.jquery.com/jquery-1.12.4.min.js\"\n",
    "pn.config.js_files[\"sparkline\"]=\"https://cdnjs.cloudflare.com/ajax/libs/jquery-sparklines/2.1.2/jquery.sparkline.min.js\"\n",
    "\n",
    "pn.extension('tabulator', 'plotly', 'ipywidgets', 'perspective',  css_files=[pn.io.resources.CSS_URLS['font-awesome']], sizing_mode='stretch_width', omms='ipywidgets')\n",
    "\n",
    "pn.config.js_files[\"sparkline_to_tabulator\"]=\"https://cdn.jsdelivr.net/gh/MarcSkovMadsen/awesome-panel-assets@master/js/add_spark_lines_to_tabulator.min.js\"\n"
   ]
  },
  {
   "cell_type": "code",
   "execution_count": null,
   "metadata": {},
   "outputs": [],
   "source": [
    "import shap\n",
    "\n",
    "X_train, X_test = data1.loc[:'2023-01-01'], data1.loc['2023-01-01':]\n",
    "\n",
    "\n",
    "# Choose an instance to explain (e.g., the first instance)\n",
    "instance_idx = 0\n",
    "instance = pd.DataFrame(X_test.iloc[instance_idx]).T\n",
    "\n",
    "# Calculate SHAP values\n",
    "explainer = shap.Explainer(model1)\n",
    "shap_values = explainer(instance)"
   ]
  },
  {
   "cell_type": "code",
   "execution_count": null,
   "metadata": {},
   "outputs": [],
   "source": []
  },
  {
   "cell_type": "code",
   "execution_count": null,
   "metadata": {},
   "outputs": [],
   "source": [
    "X_test"
   ]
  },
  {
   "cell_type": "code",
   "execution_count": null,
   "metadata": {},
   "outputs": [],
   "source": [
    "from explainerdashboard import RegressionExplainer, ExplainerDashboard\n",
    "import xgboost as xgb\n",
    "\n",
    "model_name = 'experiments/models/model-partial-cols=70.model'\n",
    "\n",
    "model = xgb.XGBRegressor(n_estimators=1500, max_depth=12, subsample=0.7, min_child_weight=9, learning_rate=0.041, tree_method='hist', xgb_model=model_name)\n",
    "model.load_model(model_name)\n",
    "\n",
    "# X_test.drop(columns='rolling_target5', inplace=True)\n",
    "y_test = orig_data['F380 M2/M3']\n",
    "# X_test.drop(columns='F380 M2/M3', inplace=True)\n",
    "\n",
    "explainer = RegressionExplainer(model, data1, orig_data['F380 M2/M3'])"
   ]
  },
  {
   "cell_type": "code",
   "execution_count": null,
   "metadata": {},
   "outputs": [],
   "source": [
    "explainer.shap"
   ]
  },
  {
   "cell_type": "code",
   "execution_count": null,
   "metadata": {},
   "outputs": [],
   "source": [
    "from explainerdashboard import InlineExplainer\n",
    "\n",
    "InlineExplainer(explainer).shap.overview()"
   ]
  },
  {
   "cell_type": "code",
   "execution_count": null,
   "metadata": {},
   "outputs": [],
   "source": [
    "InlineExplainer(explainer).run()"
   ]
  },
  {
   "cell_type": "code",
   "execution_count": null,
   "metadata": {},
   "outputs": [],
   "source": [
    "ExplainerDashboard(explainer, simple=True).run()"
   ]
  },
  {
   "cell_type": "code",
   "execution_count": null,
   "metadata": {},
   "outputs": [],
   "source": []
  },
  {
   "cell_type": "code",
   "execution_count": null,
   "metadata": {},
   "outputs": [],
   "source": [
    "import matplotlib.pyplot as plt\n",
    "\n",
    "def create_shap_plot():\n",
    "    explainer, shap_values = dash.get_shap_values(X_test, model1)\n",
    "\n",
    "    # Assuming you want to visualize SHAP values for a specific feature (e.g., feature 0)\n",
    "    feature_idx = 0\n",
    "    shap.force_plot(explainer.expected_value, shap_values, X_test, matplotlib=False)  # Adjust X_test as needed\n",
    "\n",
    "    # You can customize the SHAP plot further if needed\n",
    "\n",
    "    plt.title(f'SHAP Summary Plot for Feature {feature_idx}')\n",
    "    plt.xlabel('SHAP Value')\n",
    "    plt.ylabel('Feature Value')\n",
    "    \n",
    "    # Use HoloViz's `pn.panel` to convert the Matplotlib plot to a panel-compatible object\n",
    "    shap_plot = pn.panel(plt.gcf())\n",
    "\n",
    "    return shap_plot\n",
    "\n",
    "\n",
    "# Create a panel dashboard\n",
    "dashboard = pn.Column(\n",
    "    create_shap_plot(),\n",
    "    pn.widgets.IntSlider(name='Select Instance Index', start=0, end=len(X_test) - 1, value=instance_idx)\n",
    ")\n",
    "\n",
    "# Define a callback to update the SHAP plot based on the selected instance index\n",
    "def update_shap_plot(event):\n",
    "    instance_idx = event.new\n",
    "    shap_plot = create_shap_plot()\n",
    "\n",
    "dashboard[1].param.watch(update_shap_plot, 'value')\n",
    "\n",
    "# Show the dashboard\n",
    "dashboard.servable()"
   ]
  },
  {
   "cell_type": "code",
   "execution_count": null,
   "metadata": {},
   "outputs": [],
   "source": []
  }
 ],
 "metadata": {
  "kernelspec": {
   "display_name": "finapp",
   "language": "python",
   "name": "python3"
  },
  "language_info": {
   "codemirror_mode": {
    "name": "ipython",
    "version": 3
   },
   "file_extension": ".py",
   "mimetype": "text/x-python",
   "name": "python",
   "nbconvert_exporter": "python",
   "pygments_lexer": "ipython3",
   "version": "3.10.13"
  }
 },
 "nbformat": 4,
 "nbformat_minor": 2
}
